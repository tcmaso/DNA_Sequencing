{
 "cells": [
  {
   "cell_type": "markdown",
   "id": "134e37ee",
   "metadata": {},
   "source": [
    "# DNA SEQUENCING: Understanding the human genome"
   ]
  },
  {
   "cell_type": "markdown",
   "id": "72fedf64",
   "metadata": {},
   "source": [
    "### by Thomas Mason"
   ]
  },
  {
   "cell_type": "markdown",
   "id": "0da744fc",
   "metadata": {},
   "source": [
    "## Abstract"
   ]
  },
  {
   "cell_type": "markdown",
   "id": "68d90612",
   "metadata": {},
   "source": [
    "The purpose of this document is to explore and understand the human genome"
   ]
  },
  {
   "cell_type": "markdown",
   "id": "ac1cde69",
   "metadata": {},
   "source": [
    "## Introduction"
   ]
  },
  {
   "cell_type": "markdown",
   "id": "2715f18c",
   "metadata": {},
   "source": [
    "This section will give some background knowledge and answer some key questions in the area of bioinformatics and dna sequencing."
   ]
  },
  {
   "attachments": {},
   "cell_type": "markdown",
   "id": "9175f02f",
   "metadata": {},
   "source": [
    "#### What is DNA made of?\n",
    "**DNA** is made of chemical building blocks called **nucleotides**. These building blocks are made of three parts: **a phosphate group**, **a sugar group** and one of **four types of nitrogen bases**. To form a strand of **DNA**, **nucleotides** are linked into chains, with the **phosphate and sugar groups** alternating.\n",
    "<img src=\"src\\img\\Dna-base-flipping.png\" width=\"400\">"
   ]
  },
  {
   "cell_type": "markdown",
   "id": "8bd8120c",
   "metadata": {},
   "source": [
    "#### Nucleotides – 4 types of nitrogen bases in dna\n",
    "**Nucleotides** are the building block of DNA.\n",
    "In the **DNA** double helix, the four chemical bases always bond with the same partner to form \"**base pairs**\". \n",
    "These are:\n",
    "- **Adenine** (A)\n",
    "- **Thymine** (T)\n",
    "- **Cytosine** (C)\n",
    "- **Guanine** (G)\n",
    "\n",
    "which make up the 4 bases represented by the letters **A**, **T**, **C**, **G**.\n",
    "\n",
    "**Adenine** (A) always pairs with **thymine** (T); **cytosine** (C) always pairs with **guanine** (G). \n",
    "\n",
    "This pairing is the basis for the mechanism by which **DNA** molecules are copied when cells divide, and the pairing also underlies the methods by which most **DNA** sequencing experiments are done. **The human genome** contains about **3 billion base pairs** that spell out the instructions for making and maintaining a human being.\n"
   ]
  },
  {
   "attachments": {},
   "cell_type": "markdown",
   "id": "88bae82d",
   "metadata": {},
   "source": [
    "#### Haploid and diploid cells – Fundamentals of DNA \n",
    "https://www.youtube.com/watch?v=NR9zTvMg-pE&ab_channel=NucleusBiology\n",
    "<img src=\"src\\img\\haploid-vs-diploid_med.jpeg\" width=\"500\">\n",
    "\n",
    "**Haploid** and  **diploid** describe the number of sets of chromosomes in a cell.\n",
    "\n",
    "- **Haploid** – ONE set of chromosomes, 3 billion base pairs (23 chromosomes)\n",
    "- **Diploid** – TWO sets of chromosomes, 6 billion base pairs (46 chromosomes)\n",
    "\n",
    " **Gametes** (Sex cells) have a  **haploid** number of chromosomes, \n",
    "\n",
    "while  **somatic cells** (all body cells except sex cells) have a  **diploid** number of chromosomes.\n",
    "\n",
    "<img src=\"src\\img\\homologous-pair_med.jpeg\" width=\"500\">\n",
    "\n",
    "Cells that are **diploid** contain pairs of chromosomes (each pair contains one chromosome from the mother and one chromosome from the father), otherwise referred to as **homologous chromosomes**. **Homologous chromosomes** are similar in shape and size, along with the same types of genes in the same locations.\n",
    "\n",
    "A **gene** is a 'part' of **DNA**. It is a distinct sequence of **nucleotides** forming part of a chromosome."
   ]
  },
  {
   "cell_type": "markdown",
   "id": "d2a149c2",
   "metadata": {},
   "source": [
    "#### Inside the cell\n",
    "\n",
    "<img src=\"src\\img\\inside-the-cell.jpeg\" width=\"500\">\n",
    "\n",
    "The figure above depicts the basic hierarchy within a cell.\n",
    "\n",
    "Each **diploid human cell** contains 46 chromosomes (22 autosomal pairs plus XX or XY) with a total of 6 billion **base pairs** of **DNA**.\n",
    "\n",
    "While each **haploid human cell** contains 23 chromosomes with a total of 3 billion **base pairs** of **DNA**.\n",
    "\n",
    "Human chromosomes range in size from about 50 million to 300 million base pairs."
   ]
  },
  {
   "cell_type": "markdown",
   "id": "32519555",
   "metadata": {},
   "source": [
    "#### Cell divison - Mitosis and Meiosis\n",
    "<img src=\"src/img/Mitosis-vs-Meiosis.jpg\" width=\"500\">\n",
    "\n",
    "**Somatic cells** only reproduce by **mitosis**, which is a type of cell division that results in two genetically identical **diploid daughter cells**.\n",
    "\n",
    "**Gametes** on the other hand, only reproduce by **meiosis**. In **meiosis**, a **diploid cell** undergoes two cell divisions, to produce 4 genetically different **haploid daughter cells**.\n",
    "\n",
    "Reproductive cells (**gametes**) – Only cell not to contain pairs of chromosomes.\n",
    "\n",
    "Egg and sperm cells carry just one copy of each chromosome so that when they unite they become a single cell containing a pair of chromosomes, known as a **diploid zygote**.\n",
    "\n",
    "A **diploid zygote** will go through cell division many times, to produce all the cells in the body of a fully developed baby."
   ]
  },
  {
   "cell_type": "markdown",
   "id": "45881123",
   "metadata": {},
   "source": [
    "#### What is the The human genome project?\n",
    "https://www.genome.gov/human-genome-project\n",
    "\n",
    "**The Human Genome Project** is one of the greatest scientific feats in history. The project was a voyage of biological discovery led by an international group of researchers looking to comprehensively study **all of the DNA (known as a genome)** of a select set of organisms. Launched in October 1990 and completed in April 2003, the Human Genome Project’s signature accomplishment – **generating the first sequence of the human genome** – provided fundamental information about the human blueprint, which has since accelerated the study of human biology and improved the practice of medicine."
   ]
  },
  {
   "cell_type": "markdown",
   "id": "3733294d",
   "metadata": {},
   "source": [
    "#### The human genome\n",
    "- **Human genome** – Is the complete set of DNA (genetic material) in an organism.\n",
    "- The **genome** contains all of the information needed for a person to develop and grow.\n",
    "- In people, almost every cell in the body contains a complete copy of the genome\n"
   ]
  },
  {
   "cell_type": "markdown",
   "id": "b7a12b2c",
   "metadata": {},
   "source": [
    "#### Variation in human genome\n",
    "The human genome is mostly the same in all people. But there are variations across the genome. \n",
    "\n",
    "Its findings suggested that all humans are 99.9% genetically identical and only 0.1% of genetic variations are responsible for the phenotypic differences, such as physical traits (eg, height, intelligence, hair, and eye color), disease susceptibility, and drug responses, among individuals in populations. People who are closely related have more similar DNA.\n",
    "\n",
    "All human beings are 99.9 percent identical in their genetic makeup. Differences in the remaining 0.1 percent hold important clues about the causes of diseases."
   ]
  },
  {
   "cell_type": "markdown",
   "id": "487ac429",
   "metadata": {},
   "source": [
    "#### Benefits of Machine Learning/Data Science in biotechnology.\n",
    "- Gaining a deeper understanding of the disease processes at the level of molecular biology may determine new therapeutic procedures.\n",
    "- Identifying genetic variants that increase the risk for common diseases like cancer and diabetes\n",
    "- Identifying predisposbition to a variety of illnesses, including breast cancer, hemostasis disorders, cystic fibrosis, liver diseases and many others\n"
   ]
  },
  {
   "cell_type": "markdown",
   "id": "07c6b7cb",
   "metadata": {},
   "source": [
    "#### DNA sequencing\n",
    "**DNA sequencing** - determines the order of the 4 bases (nucleotides)\n",
    "The sequence tells scientists the kind of genetic information that is carried in a particular DNA segment.\n"
   ]
  },
  {
   "cell_type": "markdown",
   "id": "202f265f",
   "metadata": {},
   "source": [
    "Next generation sequencing"
   ]
  }
 ],
 "metadata": {
  "kernelspec": {
   "display_name": "Python 3 (ipykernel)",
   "language": "python",
   "name": "python3"
  },
  "language_info": {
   "codemirror_mode": {
    "name": "ipython",
    "version": 3
   },
   "file_extension": ".py",
   "mimetype": "text/x-python",
   "name": "python",
   "nbconvert_exporter": "python",
   "pygments_lexer": "ipython3",
   "version": "3.8.8"
  }
 },
 "nbformat": 4,
 "nbformat_minor": 5
}
